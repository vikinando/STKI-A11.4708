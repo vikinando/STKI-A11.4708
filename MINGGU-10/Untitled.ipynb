{
 "cells": [
  {
   "cell_type": "code",
   "execution_count": 7,
   "id": "cd09f8ad",
   "metadata": {},
   "outputs": [
    {
     "name": "stdout",
     "output_type": "stream",
     "text": [
      "PSIS berburu juara Liga Indonesia -> Cluster 1\n",
      "Hasil putusan Sidang Elit Politik -> Cluster 2\n",
      "Partai politik berebut suara -> Cluster 2\n",
      "Manchester United Juara Liga Inggris -> Cluster 1\n",
      "Timnas Indonesia juara Liga AFC -> Cluster 1\n"
     ]
    },
    {
     "name": "stderr",
     "output_type": "stream",
     "text": [
      "C:\\Users\\Viki Nando\\anaconda3\\Lib\\site-packages\\sklearn\\cluster\\_kmeans.py:1436: UserWarning: KMeans is known to have a memory leak on Windows with MKL, when there are less chunks than available threads. You can avoid it by setting the environment variable OMP_NUM_THREADS=1.\n",
      "  warnings.warn(\n"
     ]
    }
   ],
   "source": [
    "import os\n",
    "os.environ['OMP_NUM_THREADS'] = '1'\n",
    "\n",
    "from sklearn.feature_extraction.text import TfidfVectorizer\n",
    "from sklearn.cluster import KMeans\n",
    "\n",
    "# Define the documents\n",
    "documents = ['PSIS berburu juara Liga Indonesia', 'Hasil putusan Sidang Elit Politik', 'Partai politik berebut suara', 'Manchester United Juara Liga Inggris', 'Timnas Indonesia juara Liga AFC']\n",
    "\n",
    "# Initialize the TfidfVectorizer\n",
    "vectorizer = TfidfVectorizer()\n",
    "\n",
    "# Fit and transform the documents\n",
    "document_vectors = vectorizer.fit_transform(documents).toarray()  # Convert to dense matrix\n",
    "\n",
    "# Define the initial centroids (D1 and D3)\n",
    "initial_centroids = document_vectors[[0, 2], :]\n",
    "\n",
    "# Initialize the KMeans\n",
    "kmeans = KMeans(n_clusters=2, init=initial_centroids, n_init=1)  # Set n_init to 1\n",
    "\n",
    "# Fit the KMeans\n",
    "kmeans.fit(document_vectors)\n",
    "\n",
    "# Get the cluster labels\n",
    "labels = kmeans.labels_\n",
    "\n",
    "# Print the documents and their assigned clusters\n",
    "for document, label in zip(documents, labels):\n",
    "    print(f'{document} -> Cluster {label+1}')\n"
   ]
  },
  {
   "cell_type": "code",
   "execution_count": null,
   "id": "7d1d06c7",
   "metadata": {},
   "outputs": [],
   "source": []
  }
 ],
 "metadata": {
  "kernelspec": {
   "display_name": "Python 3 (ipykernel)",
   "language": "python",
   "name": "python3"
  },
  "language_info": {
   "codemirror_mode": {
    "name": "ipython",
    "version": 3
   },
   "file_extension": ".py",
   "mimetype": "text/x-python",
   "name": "python",
   "nbconvert_exporter": "python",
   "pygments_lexer": "ipython3",
   "version": "3.11.5"
  }
 },
 "nbformat": 4,
 "nbformat_minor": 5
}
