{
 "cells": [
  {
   "cell_type": "code",
   "execution_count": 1,
   "id": "636d166f",
   "metadata": {},
   "outputs": [
    {
     "data": {
      "text/plain": [
       "array([0.519357  , 0.33162938, 0.33162938])"
      ]
     },
     "execution_count": 1,
     "metadata": {},
     "output_type": "execute_result"
    }
   ],
   "source": [
    "from sklearn.feature_extraction.text import TfidfVectorizer\n",
    "from sklearn.metrics.pairwise import cosine_similarity\n",
    "\n",
    "# Define the documents and the query\n",
    "documents = ['Daun berwarna coklat', 'Bunga berwarna hijau', 'Rumput berwarna hijau']\n",
    "query = ['Daun hijau']\n",
    "\n",
    "# Initialize the TfidfVectorizer\n",
    "vectorizer = TfidfVectorizer()\n",
    "\n",
    "# Fit and transform the documents\n",
    "document_vectors = vectorizer.fit_transform(documents)\n",
    "\n",
    "# Transform the query\n",
    "query_vector = vectorizer.transform(query)\n",
    "\n",
    "# Calculate the cosine similarity\n",
    "cosine_similarities = cosine_similarity(query_vector, document_vectors).flatten()\n",
    "\n",
    "cosine_similarities\n"
   ]
  },
  {
   "cell_type": "code",
   "execution_count": null,
   "id": "9c377130",
   "metadata": {},
   "outputs": [],
   "source": []
  }
 ],
 "metadata": {
  "kernelspec": {
   "display_name": "Python 3 (ipykernel)",
   "language": "python",
   "name": "python3"
  },
  "language_info": {
   "codemirror_mode": {
    "name": "ipython",
    "version": 3
   },
   "file_extension": ".py",
   "mimetype": "text/x-python",
   "name": "python",
   "nbconvert_exporter": "python",
   "pygments_lexer": "ipython3",
   "version": "3.11.5"
  }
 },
 "nbformat": 4,
 "nbformat_minor": 5
}
