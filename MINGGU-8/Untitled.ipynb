{
 "cells": [
  {
   "cell_type": "code",
   "execution_count": 1,
   "id": "8d350683",
   "metadata": {},
   "outputs": [
    {
     "data": {
      "text/plain": [
       "array(['Ekonomi'], dtype='<U8')"
      ]
     },
     "execution_count": 1,
     "metadata": {},
     "output_type": "execute_result"
    }
   ],
   "source": [
    "from sklearn.feature_extraction.text import CountVectorizer\n",
    "from sklearn.naive_bayes import MultinomialNB\n",
    "\n",
    "# Define the training documents and their classes\n",
    "documents = ['Timnas Indonesia gagal juara AFC', 'PSIS berburu juara Liga Indonesia', 'Partai politik Indonesia berburu suara', 'Hasil putusan Sidang Elit Dewan', 'Harga cabai naik dipasar tradisional', 'Upah minimum regional diprediksi naik']\n",
    "classes = ['Olahraga', 'Olahraga', 'Politik', 'Politik', 'Ekonomi', 'Ekonomi']\n",
    "\n",
    "# Define the testing document\n",
    "test_document = ['Demo buruh menaikan upah minimum']\n",
    "\n",
    "# Initialize the CountVectorizer\n",
    "vectorizer = CountVectorizer()\n",
    "\n",
    "# Fit and transform the training documents\n",
    "document_vectors = vectorizer.fit_transform(documents)\n",
    "\n",
    "# Transform the testing document\n",
    "test_vector = vectorizer.transform(test_document)\n",
    "\n",
    "# Initialize the MultinomialNB\n",
    "clf = MultinomialNB()\n",
    "\n",
    "# Fit the classifier\n",
    "clf.fit(document_vectors, classes)\n",
    "\n",
    "# Predict the class of the testing document\n",
    "predicted_class = clf.predict(test_vector)\n",
    "\n",
    "predicted_class\n"
   ]
  },
  {
   "cell_type": "code",
   "execution_count": null,
   "id": "b33f3949",
   "metadata": {},
   "outputs": [],
   "source": []
  }
 ],
 "metadata": {
  "kernelspec": {
   "display_name": "Python 3 (ipykernel)",
   "language": "python",
   "name": "python3"
  },
  "language_info": {
   "codemirror_mode": {
    "name": "ipython",
    "version": 3
   },
   "file_extension": ".py",
   "mimetype": "text/x-python",
   "name": "python",
   "nbconvert_exporter": "python",
   "pygments_lexer": "ipython3",
   "version": "3.11.5"
  }
 },
 "nbformat": 4,
 "nbformat_minor": 5
}
