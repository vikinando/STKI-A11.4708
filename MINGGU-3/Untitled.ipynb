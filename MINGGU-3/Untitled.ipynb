{
 "cells": [
  {
   "cell_type": "code",
   "execution_count": 1,
   "id": "c6594b6b",
   "metadata": {},
   "outputs": [
    {
     "data": {
      "text/html": [
       "<div>\n",
       "<style scoped>\n",
       "    .dataframe tbody tr th:only-of-type {\n",
       "        vertical-align: middle;\n",
       "    }\n",
       "\n",
       "    .dataframe tbody tr th {\n",
       "        vertical-align: top;\n",
       "    }\n",
       "\n",
       "    .dataframe thead th {\n",
       "        text-align: right;\n",
       "    }\n",
       "</style>\n",
       "<table border=\"1\" class=\"dataframe\">\n",
       "  <thead>\n",
       "    <tr style=\"text-align: right;\">\n",
       "      <th></th>\n",
       "      <th>forecasts</th>\n",
       "      <th>home</th>\n",
       "      <th>in</th>\n",
       "      <th>increase</th>\n",
       "      <th>july</th>\n",
       "      <th>new</th>\n",
       "      <th>rise</th>\n",
       "      <th>sales</th>\n",
       "      <th>top</th>\n",
       "    </tr>\n",
       "  </thead>\n",
       "  <tbody>\n",
       "    <tr>\n",
       "      <th>Doc 1</th>\n",
       "      <td>1</td>\n",
       "      <td>1</td>\n",
       "      <td>0</td>\n",
       "      <td>0</td>\n",
       "      <td>0</td>\n",
       "      <td>1</td>\n",
       "      <td>0</td>\n",
       "      <td>1</td>\n",
       "      <td>1</td>\n",
       "    </tr>\n",
       "    <tr>\n",
       "      <th>Doc 2</th>\n",
       "      <td>0</td>\n",
       "      <td>1</td>\n",
       "      <td>1</td>\n",
       "      <td>0</td>\n",
       "      <td>1</td>\n",
       "      <td>0</td>\n",
       "      <td>1</td>\n",
       "      <td>1</td>\n",
       "      <td>0</td>\n",
       "    </tr>\n",
       "    <tr>\n",
       "      <th>Doc 3</th>\n",
       "      <td>0</td>\n",
       "      <td>1</td>\n",
       "      <td>1</td>\n",
       "      <td>1</td>\n",
       "      <td>1</td>\n",
       "      <td>0</td>\n",
       "      <td>0</td>\n",
       "      <td>1</td>\n",
       "      <td>0</td>\n",
       "    </tr>\n",
       "    <tr>\n",
       "      <th>Doc 4</th>\n",
       "      <td>0</td>\n",
       "      <td>1</td>\n",
       "      <td>0</td>\n",
       "      <td>0</td>\n",
       "      <td>1</td>\n",
       "      <td>1</td>\n",
       "      <td>1</td>\n",
       "      <td>1</td>\n",
       "      <td>0</td>\n",
       "    </tr>\n",
       "  </tbody>\n",
       "</table>\n",
       "</div>"
      ],
      "text/plain": [
       "       forecasts  home  in  increase  july  new  rise  sales  top\n",
       "Doc 1          1     1   0         0     0    1     0      1    1\n",
       "Doc 2          0     1   1         0     1    0     1      1    0\n",
       "Doc 3          0     1   1         1     1    0     0      1    0\n",
       "Doc 4          0     1   0         0     1    1     1      1    0"
      ]
     },
     "execution_count": 1,
     "metadata": {},
     "output_type": "execute_result"
    }
   ],
   "source": [
    "from sklearn.feature_extraction.text import CountVectorizer\n",
    "\n",
    "# Define the documents\n",
    "documents = [\n",
    "    'New home sales top forecasts',\n",
    "    'Home sales rise in July',\n",
    "    'Increase in home sales in July',\n",
    "    'July new home sales rise'\n",
    "]\n",
    "\n",
    "# Initialize the CountVectorizer\n",
    "vectorizer = CountVectorizer(binary=True)\n",
    "\n",
    "# Fit and transform the documents\n",
    "matrix = vectorizer.fit_transform(documents)\n",
    "\n",
    "# Get the feature names (words)\n",
    "feature_names = vectorizer.get_feature_names_out()\n",
    "\n",
    "# Create a DataFrame for better visualization\n",
    "import pandas as pd\n",
    "\n",
    "df = pd.DataFrame(matrix.toarray(), columns=feature_names, index=[f'Doc {i+1}' for i in range(len(documents))])\n",
    "df\n"
   ]
  },
  {
   "cell_type": "code",
   "execution_count": 3,
   "id": "e307ad1e",
   "metadata": {},
   "outputs": [
    {
     "data": {
      "text/plain": [
       "['Doc 1', 'Doc 1', 'Doc 1', 'Doc 1']"
      ]
     },
     "execution_count": 3,
     "metadata": {},
     "output_type": "execute_result"
    }
   ],
   "source": [
    "# Define the new query\n",
    "query = ['home', 'july', 'sales']\n",
    "\n",
    "# Perform the boolean query retrieval\n",
    "result = df[query[0]] & df[query[1]] & ~df[query[2]]\n",
    "\n",
    "# Get the documents that satisfy the query\n",
    "satisfying_docs = result[result].index.tolist()\n",
    "\n",
    "satisfying_docs\n"
   ]
  },
  {
   "cell_type": "code",
   "execution_count": 4,
   "id": "3062f1d3",
   "metadata": {},
   "outputs": [
    {
     "data": {
      "text/plain": [
       "['Doc 2', 'Doc 1', 'Doc 1', 'Doc 1']"
      ]
     },
     "execution_count": 4,
     "metadata": {},
     "output_type": "execute_result"
    }
   ],
   "source": [
    "# Define the new query\n",
    "query = ['home', 'sales', 'july']\n",
    "\n",
    "# Perform the boolean query retrieval\n",
    "result = df[query[0]] & df[query[1]] & ~df[query[2]]\n",
    "\n",
    "# Get the documents that satisfy the query\n",
    "satisfying_docs = result[result].index.tolist()\n",
    "\n",
    "satisfying_docs\n"
   ]
  },
  {
   "cell_type": "code",
   "execution_count": null,
   "id": "ff2f8a5a",
   "metadata": {},
   "outputs": [],
   "source": []
  }
 ],
 "metadata": {
  "kernelspec": {
   "display_name": "Python 3 (ipykernel)",
   "language": "python",
   "name": "python3"
  },
  "language_info": {
   "codemirror_mode": {
    "name": "ipython",
    "version": 3
   },
   "file_extension": ".py",
   "mimetype": "text/x-python",
   "name": "python",
   "nbconvert_exporter": "python",
   "pygments_lexer": "ipython3",
   "version": "3.11.5"
  }
 },
 "nbformat": 4,
 "nbformat_minor": 5
}
