{
 "cells": [
  {
   "cell_type": "code",
   "execution_count": 1,
   "id": "7b4e120e",
   "metadata": {},
   "outputs": [
    {
     "name": "stdout",
     "output_type": "stream",
     "text": [
      "The predicted class for D5 is: Politik\n"
     ]
    }
   ],
   "source": [
    "from sklearn.feature_extraction.text import TfidfVectorizer\n",
    "from sklearn.neighbors import KNeighborsClassifier\n",
    "from sklearn.pipeline import Pipeline\n",
    "\n",
    "# Training data\n",
    "docs = ['Sepakbola PSIS tahun ini semakin indah', \n",
    "        'Presiden Indonesia menaikan harga BBM', \n",
    "        'Partai politik Indonesia berburu suara', \n",
    "        'Timnas Indonesia gagal juara AFC']\n",
    "labels = ['Olahraga', 'Politik', 'Politik', 'Olahraga']\n",
    "\n",
    "# Testing data\n",
    "test_docs = ['Presiden menaikan gaji Timnas Indonesia']\n",
    "\n",
    "# Create a pipeline: Vectorizer -> Classifier\n",
    "model = Pipeline([\n",
    "    ('vectorizer', TfidfVectorizer()),\n",
    "    ('classifier', KNeighborsClassifier(n_neighbors=3))\n",
    "])\n",
    "\n",
    "# Train the classifier\n",
    "model.fit(docs, labels)\n",
    "\n",
    "# Predict the labels for test data\n",
    "predictions = model.predict(test_docs)\n",
    "\n",
    "print(f'The predicted class for D5 is: {predictions[0]}')\n"
   ]
  },
  {
   "cell_type": "code",
   "execution_count": null,
   "id": "10d7469f",
   "metadata": {},
   "outputs": [],
   "source": []
  }
 ],
 "metadata": {
  "kernelspec": {
   "display_name": "Python 3 (ipykernel)",
   "language": "python",
   "name": "python3"
  },
  "language_info": {
   "codemirror_mode": {
    "name": "ipython",
    "version": 3
   },
   "file_extension": ".py",
   "mimetype": "text/x-python",
   "name": "python",
   "nbconvert_exporter": "python",
   "pygments_lexer": "ipython3",
   "version": "3.11.5"
  }
 },
 "nbformat": 4,
 "nbformat_minor": 5
}
